{
 "cells": [
  {
   "cell_type": "markdown",
   "metadata": {},
   "source": [
    "**Author: Eric Zeng**\n",
    "\n",
    "**Email: ericzengsearchll@gmail.com**"
   ]
  },
  {
   "cell_type": "markdown",
   "metadata": {},
   "source": [
    "**Note:**\n",
    "\n",
    "This file is about construct minimium variance portfolio using CHF, GBP, JPY from FRED"
   ]
  },
  {
   "cell_type": "code",
   "execution_count": 36,
   "metadata": {},
   "outputs": [],
   "source": [
    "import pandas as pd\n",
    "import qrbook_funcs as qf\n",
    "import numpy as np\n",
    "from scipy import optimize\n",
    "# Get 3 currencies until the end of Dec 29, 2017\n",
    "# From sample covariance matrix and do simple efficient frontier calculations"
   ]
  },
  {
   "cell_type": "code",
   "execution_count": 55,
   "metadata": {},
   "outputs": [],
   "source": [
    "def get_minimum_variance_portfolio(startday=None, lastday=None, display=True):\n",
    "    \"\"\"\n",
    "    @startday: optional, 'YYYY-MM-DD' dates\n",
    "    @lastday: optional, 'YYYY-MM-DD' dates\n",
    "    Return: \n",
    "        The mean of return of each instrument\n",
    "        The covariance matrix of return of instruments\n",
    "    \"\"\"\n",
    "    # Swiss Francs, pound sterling, Japanese Yen\n",
    "    seriesnames = ['DEXSZUS', 'DEXUSUK', 'DEXJPUS']\n",
    "    cdates, ratematrix = qf.GetFREDMatrix(seriesnames, startdate=startday, enddate=lastday)\n",
    "    \n",
    "    # Convert levels to log-returns\n",
    "    # First take logs of the currency levels\n",
    "    # Currency exchange rates are usually expressed in the direction\n",
    "    # that will make the rate > 1\n",
    "    # Swissie and yen are in currency/dollar, but\n",
    "    # pounds is in dollar/currency. Reverse signs\n",
    "    # so everything is in dollar/currency\n",
    "\n",
    "    # Do each currency separately to account for separate missing data patterns\n",
    "    # dlgs is a list of lists of length 3 corresponding to the 3 currencies\n",
    "    # The value in dlgs is nan if there is missing data for the present or previous day's observation\n",
    "    # Otherwise it is the log of today/yesterday\n",
    "\n",
    "    multipliers=[-1,1,-1]\n",
    "    dlgs=[]\n",
    "    for i in range(len(multipliers)):\n",
    "        lgrates=[]\n",
    "        previous=-1\n",
    "        for t in range(len(ratematrix)):\n",
    "            if pd.isna(ratematrix[t][i]) or ratematrix[t][i]<=0:\n",
    "                lgrates.append(np.nan)    # Append a nan\n",
    "            else:\n",
    "                if previous < 0:    # This is the first data point\n",
    "                    lgrates.append(np.nan)\n",
    "                else:\n",
    "                    lgrates.append(np.log(ratematrix[t][i]/previous)*multipliers[i])\n",
    "                previous=ratematrix[t][i]\n",
    "        dlgs.append(lgrates)\n",
    "\n",
    "    # dlgs is the transpose of what we want - flip it\n",
    "    dlgs=np.transpose(dlgs)\n",
    "\n",
    "    # Delete any time periods that don't have data\n",
    "    lgdates=[]\n",
    "    difflgs=[]\n",
    "    for t in range(len(dlgs)):\n",
    "        if all(pd.notna(dlgs[t])):\n",
    "            #include this time period\n",
    "            difflgs.append(dlgs[t])\n",
    "            lgdates.append(cdates[t])\n",
    "\n",
    "    # Mean vector and covariance matrix are inputs to efficient frontier calculations\n",
    "    d=np.array(difflgs)\n",
    "    m=np.mean(d,axis=0)\n",
    "    c=np.cov(d.T)\n",
    "\n",
    "    # display the output\n",
    "    # vectors and matrices are in fractional units;\n",
    "    #    fraction*100=percent\n",
    "    #    fraction*10000=basis point\n",
    "    #    (fraction^2)*10000=percent^2\n",
    "    if display:\n",
    "        np.set_printoptions(precision=4)\n",
    "        print(\"Means:\",m*10000,\"bps/day\")\n",
    "        print(\"(CHF, GBP, JPY)\\n\")\n",
    "        print(\"  \",c[0]*10000)\n",
    "        print(\"C=\",c[1]*10000,\"    (4.20)\")\n",
    "        print(\"  \",c[2]*10000)\n",
    "        print(f'(%/day)\\N{SUPERSCRIPT TWO} units')\n",
    "        print(\"  \")\n",
    "        print(\"From\",lgdates[0],\"to\",lgdates[-1],\"(\",len(lgdates),\"observations)\")\n",
    "        print('-------------------')\n",
    "        print()\n",
    "        \n",
    "    return m, c\n",
    "\n",
    "def portfolio_annualized_performance(weights, meanReturns, covReturnMtx):\n",
    "    \"\"\"\n",
    "    Calculate the standard deviation and returns of a portfolio\n",
    "    @weights: 1-d array\n",
    "    @meanReturns: 1-d array\n",
    "    @covReturnMtx: 2-d array\n",
    "    Return:\n",
    "        The standard deviation of the portfolio\n",
    "    \"\"\"\n",
    "    returns = np.sum(meanReturns*weights) * 252 # annualized return\n",
    "    std = np.sqrt(np.dot(weights.T, np.dot(covReturnMtx, weights))) * np.sqrt(252) # standard deviation\n",
    "    return std, returns\n",
    "\n",
    "def portfolio_volatility(weights, meanReturns, covReturnMtx):\n",
    "    \"\"\"\n",
    "    Calculate the standard deviation of the portfolio as the volatility\n",
    "    @weights: 1-d array\n",
    "    @meanReturns: 1-d array\n",
    "    @covReturnMtx: 2-d array\n",
    "    Return:\n",
    "        The standard deviation of the portfolio\n",
    "    \"\"\"\n",
    "    std, _ = portfolio_annualized_performance(weights, meanReturns, covReturnMtx)\n",
    "    return std\n",
    "\n",
    "def min_volatility(meanReturns, covReturnMtx):\n",
    "    \"\"\"\n",
    "    Calculate the possible minimum variance to achieve given means of return \n",
    "    and covariance matrix of returns\n",
    "    @meanReturns: 1-d array\n",
    "    @covReturnMtx: 2-d array\n",
    "    Return:\n",
    "        The set up to achieve the minimum variance\n",
    "    \"\"\"\n",
    "    numAssets = len(meanReturns)\n",
    "    args = (meanReturns, covReturnMtx)\n",
    "    constraints = ({'type': 'eq', 'fun': lambda x: np.sum(x) - 1})\n",
    "    bound = (0.0, 1.0)\n",
    "    bounds = tuple(bound for i in range(numAssets))\n",
    "    \n",
    "    weights0 = [1 / numAssets for i in range(numAssets)] # initalize weights as evenly distributed\n",
    "    # Optimize\n",
    "    minVolatilitySetUp = optimize.minimize(portfolio_volatility, weights0, args=args, \n",
    "                                   method='SLSQP', bounds=bounds, constraints=constraints)\n",
    "    return minVolatilitySetUp\n",
    "\n",
    "def calculate_efficient_frontier(seriesnames, meanReturns, covReturnMtx, numPortfolios=10000, display=True):\n",
    "    \"\"\"\n",
    "    Caculate the efficient frontier for the portfolio\n",
    "    @meanReturns: 1-d array\n",
    "    @covReturnMtx: 2-d array\n",
    "    @numPortfolios: default 10000\n",
    "    @display: boolean\n",
    "    Return:\n",
    "        display a table of return, volatility, and allocation\n",
    "    \"\"\"\n",
    "    minVolatilitySetUp = min_volatility(meanReturns, covReturnMtx)\n",
    "    stdMinPrtf, returnMin = portfolio_annualized_performance(minVolatilitySetUp['x'], meanReturns, covReturnMtx)\n",
    "    minVolatilityAlloc = pd.DataFrame(minVolatilitySetUp['x'], index=seriesnames, columns=['allocation percentage'])\n",
    "    minVolatilityAlloc['allocation percentage'] = [round(i * 100, 2) for i in minVolatilityAlloc['allocation percentage']]\n",
    "    minVolatilityAlloc = minVolatilityAlloc.T\n",
    "    \n",
    "    if display:\n",
    "        print (\"Minimum Volatility Portfolio Allocation Percentage\\n\")\n",
    "        print (\"Annualised Return:\", round(returnMin,2))\n",
    "        print (\"Annualised Volatility:\", round(stdMinPrtf,2))\n",
    "        print (\"\\n\")\n",
    "        print (minVolatilityAlloc)\n",
    "        print (\"--------------------------------\")\n",
    "        \n"
   ]
  },
  {
   "cell_type": "code",
   "execution_count": 50,
   "metadata": {
    "scrolled": false
   },
   "outputs": [
    {
     "name": "stdout",
     "output_type": "stream",
     "text": [
      "Means: [ 1.2476 -0.5009  0.98  ] bps/day\n",
      "(CHF, GBP, JPY)\n",
      "\n",
      "   [0.5276 0.2528 0.2239]\n",
      "C= [0.2528 0.3592 0.1183]     (4.20)\n",
      "   [0.2239 0.1183 0.4209]\n",
      "(%/day)² units\n",
      "  \n",
      "From 1971-01-05 to 2017-12-29 ( 11787 observations)\n",
      "-------------------\n",
      "\n",
      "Means: [-0.4703 -2.5494  0.9014] bps/day\n",
      "(CHF, GBP, JPY)\n",
      "\n",
      "   [0.1338 0.0892 0.0688]\n",
      "C= [0.0892 0.2402 0.0361]     (4.20)\n",
      "   [0.0688 0.0361 0.1579]\n",
      "(%/day)² units\n",
      "  \n",
      "From 2018-01-03 to 2018-12-31 ( 248 observations)\n",
      "-------------------\n",
      "\n"
     ]
    }
   ],
   "source": [
    "# ending on Dec 29, 2017\n",
    "means20191229, covReturnMtx20191229 = get_minimum_variance_portfolio(lastday='2017-12-29')\n",
    "\n",
    "# just 2018 data (250 days)\n",
    "means2018, covReturnMtx2018 = get_minimum_variance_portfolio(startday='2018-01-01', \n",
    "                                                             lastday='2018-12-31')\n"
   ]
  },
  {
   "cell_type": "markdown",
   "metadata": {},
   "source": [
    "**Note:**\n",
    "\n",
    "The Swiss franc and the Japanese yen have appreciated versus the dollar since 1971 to Dec 29, 2017, giving positive daily mean returns. The pound has depreciated.\n",
    "\n",
    "The Swiss franc and the Pound sterling have depreciated versus the dollar in 2018 (248 trading days), giving negative daily mean returns. The Japanese yen has appreciated."
   ]
  },
  {
   "cell_type": "code",
   "execution_count": 56,
   "metadata": {},
   "outputs": [
    {
     "name": "stdout",
     "output_type": "stream",
     "text": [
      "Minimum Volatility Portfolio Allocation Percentage\n",
      "\n",
      "Annualised Return: 0.01\n",
      "Annualised Volatility: 0.08\n",
      "\n",
      "\n",
      "                        CHF    GBP    JPY\n",
      "allocation percentage  4.22  53.12  42.66\n",
      "--------------------------------\n"
     ]
    }
   ],
   "source": [
    "# The minimum variance portfolio ending on Dec 29, 2017\n",
    "calculate_efficient_frontier([\"CHF\", \"GBP\", \"JPY\"], means20191229, covReturnMtx20191229)"
   ]
  },
  {
   "cell_type": "code",
   "execution_count": 57,
   "metadata": {},
   "outputs": [
    {
     "name": "stdout",
     "output_type": "stream",
     "text": [
      "Minimum Volatility Portfolio Allocation Percentage\n",
      "\n",
      "Annualised Return: -0.01\n",
      "Annualised Volatility: 0.05\n",
      "\n",
      "\n",
      "                         CHF    GBP    JPY\n",
      "allocation percentage  39.08  20.46  40.45\n",
      "--------------------------------\n"
     ]
    }
   ],
   "source": [
    "# The minimum variance portfolio in 2018 \n",
    "calculate_efficient_frontier([\"CHF\", \"GBP\", \"JPY\"], means2018, covReturnMtx2018)"
   ]
  },
  {
   "cell_type": "markdown",
   "metadata": {},
   "source": [
    "**Note:**\n",
    "\n",
    "Portfolio One -> The minimum variance portfolio from 1971-01-05 to 2017-12-29\n",
    "\n",
    "Portfolio Two -> The minimum variance portfolio in 2018 \n",
    "\n",
    "**Weights**\n",
    "\n",
    "The Portfolio One focuses on GBP and JPY. The weights of GBP is small.\n",
    "\n",
    "The Portfolio Two's weights for each currency is relatively even. \n",
    "\n",
    "**Variance**\n",
    "\n",
    "The annualized volatility of Portfolio One is a bit larger than the the annualized volatility of Portfolio Two."
   ]
  },
  {
   "cell_type": "code",
   "execution_count": null,
   "metadata": {},
   "outputs": [],
   "source": []
  }
 ],
 "metadata": {
  "kernelspec": {
   "display_name": "Python 3",
   "language": "python",
   "name": "python3"
  },
  "language_info": {
   "codemirror_mode": {
    "name": "ipython",
    "version": 3
   },
   "file_extension": ".py",
   "mimetype": "text/x-python",
   "name": "python",
   "nbconvert_exporter": "python",
   "pygments_lexer": "ipython3",
   "version": "3.6.10"
  }
 },
 "nbformat": 4,
 "nbformat_minor": 2
}
